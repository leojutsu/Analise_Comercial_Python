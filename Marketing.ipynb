{
 "cells": [
  {
   "cell_type": "code",
   "execution_count": 1,
   "id": "c0d2cc27-6631-49b6-9f0e-bd47dc545a30",
   "metadata": {},
   "outputs": [],
   "source": [
    "import pandas as pd\n",
    "import numpy as np\n",
    "import matplotlib.pyplot as plt\n",
    "import seaborn as sns"
   ]
  },
  {
   "cell_type": "code",
   "execution_count": 2,
   "id": "f7f81c1e-25f1-4aa5-bf13-8e837e8020b1",
   "metadata": {},
   "outputs": [],
   "source": [
    "file = 'dados_marketing.csv'"
   ]
  },
  {
   "cell_type": "code",
   "execution_count": 4,
   "id": "3c3ec0f7-bddb-4a80-a2d7-9f20ce04630c",
   "metadata": {},
   "outputs": [],
   "source": [
    "df = pd.read_csv(file, encoding = 'utf-8', sep=';', parse_dates=['Data Cadastro'], decimal=',')"
   ]
  },
  {
   "cell_type": "markdown",
   "id": "0479d16c-29e9-4539-a1bc-cd5496fca9ad",
   "metadata": {},
   "source": [
    "### Verificando e aumentando o número de colana visualizaveis do Data Frame"
   ]
  },
  {
   "cell_type": "code",
   "execution_count": 5,
   "id": "77980042-acc7-4f3b-b454-03f717899c41",
   "metadata": {},
   "outputs": [
    {
     "data": {
      "text/plain": [
       "20"
      ]
     },
     "execution_count": 5,
     "metadata": {},
     "output_type": "execute_result"
    }
   ],
   "source": [
    "pd.get_option('display.max_columns')"
   ]
  },
  {
   "cell_type": "code",
   "execution_count": 6,
   "id": "c0cc1daa-7863-445b-be37-112294c5354a",
   "metadata": {},
   "outputs": [],
   "source": [
    "pd.set_option('display.max_columns', 50)"
   ]
  },
  {
   "cell_type": "code",
   "execution_count": 7,
   "id": "69a6500d-7b7e-4229-b562-dde33c079df7",
   "metadata": {},
   "outputs": [
    {
     "data": {
      "text/plain": [
       "(2000, 27)"
      ]
     },
     "execution_count": 7,
     "metadata": {},
     "output_type": "execute_result"
    }
   ],
   "source": [
    "df.shape"
   ]
  },
  {
   "cell_type": "code",
   "execution_count": 8,
   "id": "f5c7e6ee-a2c7-49df-b93e-368be6a7a9fa",
   "metadata": {},
   "outputs": [
    {
     "data": {
      "text/plain": [
       "Index(['ID', 'Ano Nascimento', 'Escolaridade', 'Estado Civil', 'Salario Anual',\n",
       "       'Filhos em Casa', 'Adolescentes em Casa', 'Data Cadastro',\n",
       "       'Dias Desde Ultima Compra', 'Gasto com Eletronicos',\n",
       "       'Gasto com Brinquedos', 'Gasto com Moveis', 'Gasto com Utilidades',\n",
       "       'Gasto com Alimentos', 'Gasto com Vestuario',\n",
       "       'Numero de Compras com Desconto', 'Numero de Compras na Web',\n",
       "       'Numero de Compras via Catalogo', 'Numero de Compras na Loja',\n",
       "       'Numero Visitas WebSite Mes', 'Compra na Campanha 1',\n",
       "       'Compra na Campanha 2', 'Compra na Campanha 3', 'Compra na Campanha 4',\n",
       "       'Compra na Campanha 5', 'Comprou', 'Pais'],\n",
       "      dtype='object')"
      ]
     },
     "execution_count": 8,
     "metadata": {},
     "output_type": "execute_result"
    }
   ],
   "source": [
    "df.columns"
   ]
  },
  {
   "cell_type": "code",
   "execution_count": 9,
   "id": "abb90b0c-3a70-4ee8-b4e6-af61016f9bbd",
   "metadata": {},
   "outputs": [
    {
     "name": "stdout",
     "output_type": "stream",
     "text": [
      "<class 'pandas.core.frame.DataFrame'>\n",
      "RangeIndex: 2000 entries, 0 to 1999\n",
      "Data columns (total 27 columns):\n",
      " #   Column                          Non-Null Count  Dtype         \n",
      "---  ------                          --------------  -----         \n",
      " 0   ID                              2000 non-null   int64         \n",
      " 1   Ano Nascimento                  2000 non-null   int64         \n",
      " 2   Escolaridade                    2000 non-null   object        \n",
      " 3   Estado Civil                    2000 non-null   object        \n",
      " 4   Salario Anual                   1981 non-null   float64       \n",
      " 5   Filhos em Casa                  2000 non-null   int64         \n",
      " 6   Adolescentes em Casa            2000 non-null   int64         \n",
      " 7   Data Cadastro                   2000 non-null   datetime64[ns]\n",
      " 8   Dias Desde Ultima Compra        2000 non-null   int64         \n",
      " 9   Gasto com Eletronicos           2000 non-null   int64         \n",
      " 10  Gasto com Brinquedos            2000 non-null   int64         \n",
      " 11  Gasto com Moveis                2000 non-null   int64         \n",
      " 12  Gasto com Utilidades            2000 non-null   int64         \n",
      " 13  Gasto com Alimentos             2000 non-null   int64         \n",
      " 14  Gasto com Vestuario             2000 non-null   int64         \n",
      " 15  Numero de Compras com Desconto  2000 non-null   int64         \n",
      " 16  Numero de Compras na Web        2000 non-null   int64         \n",
      " 17  Numero de Compras via Catalogo  2000 non-null   int64         \n",
      " 18  Numero de Compras na Loja       2000 non-null   int64         \n",
      " 19  Numero Visitas WebSite Mes      2000 non-null   int64         \n",
      " 20  Compra na Campanha 1            2000 non-null   int64         \n",
      " 21  Compra na Campanha 2            2000 non-null   int64         \n",
      " 22  Compra na Campanha 3            2000 non-null   int64         \n",
      " 23  Compra na Campanha 4            2000 non-null   int64         \n",
      " 24  Compra na Campanha 5            2000 non-null   int64         \n",
      " 25  Comprou                         2000 non-null   int64         \n",
      " 26  Pais                            2000 non-null   object        \n",
      "dtypes: datetime64[ns](1), float64(1), int64(22), object(3)\n",
      "memory usage: 422.0+ KB\n"
     ]
    }
   ],
   "source": [
    "df.info()"
   ]
  },
  {
   "cell_type": "code",
   "execution_count": 10,
   "id": "f416c42a-83ea-4836-aaf7-a7b6595940a0",
   "metadata": {},
   "outputs": [
    {
     "data": {
      "text/html": [
       "<div>\n",
       "<style scoped>\n",
       "    .dataframe tbody tr th:only-of-type {\n",
       "        vertical-align: middle;\n",
       "    }\n",
       "\n",
       "    .dataframe tbody tr th {\n",
       "        vertical-align: top;\n",
       "    }\n",
       "\n",
       "    .dataframe thead th {\n",
       "        text-align: right;\n",
       "    }\n",
       "</style>\n",
       "<table border=\"1\" class=\"dataframe\">\n",
       "  <thead>\n",
       "    <tr style=\"text-align: right;\">\n",
       "      <th></th>\n",
       "      <th>ID</th>\n",
       "      <th>Ano Nascimento</th>\n",
       "      <th>Escolaridade</th>\n",
       "      <th>Estado Civil</th>\n",
       "      <th>Salario Anual</th>\n",
       "      <th>Filhos em Casa</th>\n",
       "      <th>Adolescentes em Casa</th>\n",
       "      <th>Data Cadastro</th>\n",
       "      <th>Dias Desde Ultima Compra</th>\n",
       "      <th>Gasto com Eletronicos</th>\n",
       "      <th>Gasto com Brinquedos</th>\n",
       "      <th>Gasto com Moveis</th>\n",
       "      <th>Gasto com Utilidades</th>\n",
       "      <th>Gasto com Alimentos</th>\n",
       "      <th>Gasto com Vestuario</th>\n",
       "      <th>Numero de Compras com Desconto</th>\n",
       "      <th>Numero de Compras na Web</th>\n",
       "      <th>Numero de Compras via Catalogo</th>\n",
       "      <th>Numero de Compras na Loja</th>\n",
       "      <th>Numero Visitas WebSite Mes</th>\n",
       "      <th>Compra na Campanha 1</th>\n",
       "      <th>Compra na Campanha 2</th>\n",
       "      <th>Compra na Campanha 3</th>\n",
       "      <th>Compra na Campanha 4</th>\n",
       "      <th>Compra na Campanha 5</th>\n",
       "      <th>Comprou</th>\n",
       "      <th>Pais</th>\n",
       "    </tr>\n",
       "  </thead>\n",
       "  <tbody>\n",
       "    <tr>\n",
       "      <th>0</th>\n",
       "      <td>2795</td>\n",
       "      <td>1958</td>\n",
       "      <td>Mestrado</td>\n",
       "      <td>Solteiro</td>\n",
       "      <td>30523.0</td>\n",
       "      <td>2</td>\n",
       "      <td>1</td>\n",
       "      <td>2020-07-01</td>\n",
       "      <td>0</td>\n",
       "      <td>5</td>\n",
       "      <td>0</td>\n",
       "      <td>3</td>\n",
       "      <td>0</td>\n",
       "      <td>0</td>\n",
       "      <td>5</td>\n",
       "      <td>1</td>\n",
       "      <td>1</td>\n",
       "      <td>0</td>\n",
       "      <td>2</td>\n",
       "      <td>7</td>\n",
       "      <td>0</td>\n",
       "      <td>0</td>\n",
       "      <td>0</td>\n",
       "      <td>0</td>\n",
       "      <td>0</td>\n",
       "      <td>0</td>\n",
       "      <td>Chile</td>\n",
       "    </tr>\n",
       "    <tr>\n",
       "      <th>1</th>\n",
       "      <td>2285</td>\n",
       "      <td>1954</td>\n",
       "      <td>Mestrado</td>\n",
       "      <td>Casado</td>\n",
       "      <td>36634.0</td>\n",
       "      <td>0</td>\n",
       "      <td>1</td>\n",
       "      <td>2023-05-12</td>\n",
       "      <td>0</td>\n",
       "      <td>213</td>\n",
       "      <td>9</td>\n",
       "      <td>76</td>\n",
       "      <td>4</td>\n",
       "      <td>3</td>\n",
       "      <td>30</td>\n",
       "      <td>3</td>\n",
       "      <td>5</td>\n",
       "      <td>2</td>\n",
       "      <td>5</td>\n",
       "      <td>7</td>\n",
       "      <td>0</td>\n",
       "      <td>0</td>\n",
       "      <td>0</td>\n",
       "      <td>0</td>\n",
       "      <td>0</td>\n",
       "      <td>0</td>\n",
       "      <td>Espanha</td>\n",
       "    </tr>\n",
       "    <tr>\n",
       "      <th>2</th>\n",
       "      <td>115</td>\n",
       "      <td>1966</td>\n",
       "      <td>Mestrado</td>\n",
       "      <td>Solteiro</td>\n",
       "      <td>43456.0</td>\n",
       "      <td>0</td>\n",
       "      <td>1</td>\n",
       "      <td>2023-03-02</td>\n",
       "      <td>0</td>\n",
       "      <td>275</td>\n",
       "      <td>11</td>\n",
       "      <td>68</td>\n",
       "      <td>25</td>\n",
       "      <td>7</td>\n",
       "      <td>7</td>\n",
       "      <td>3</td>\n",
       "      <td>5</td>\n",
       "      <td>1</td>\n",
       "      <td>8</td>\n",
       "      <td>5</td>\n",
       "      <td>0</td>\n",
       "      <td>0</td>\n",
       "      <td>0</td>\n",
       "      <td>0</td>\n",
       "      <td>0</td>\n",
       "      <td>0</td>\n",
       "      <td>Argentina</td>\n",
       "    </tr>\n",
       "    <tr>\n",
       "      <th>3</th>\n",
       "      <td>10470</td>\n",
       "      <td>1979</td>\n",
       "      <td>Mestrado</td>\n",
       "      <td>Solteiro</td>\n",
       "      <td>40662.0</td>\n",
       "      <td>1</td>\n",
       "      <td>0</td>\n",
       "      <td>2023-03-05</td>\n",
       "      <td>0</td>\n",
       "      <td>40</td>\n",
       "      <td>2</td>\n",
       "      <td>23</td>\n",
       "      <td>0</td>\n",
       "      <td>4</td>\n",
       "      <td>23</td>\n",
       "      <td>2</td>\n",
       "      <td>2</td>\n",
       "      <td>1</td>\n",
       "      <td>3</td>\n",
       "      <td>4</td>\n",
       "      <td>0</td>\n",
       "      <td>0</td>\n",
       "      <td>0</td>\n",
       "      <td>0</td>\n",
       "      <td>0</td>\n",
       "      <td>0</td>\n",
       "      <td>Alemanha</td>\n",
       "    </tr>\n",
       "    <tr>\n",
       "      <th>4</th>\n",
       "      <td>4065</td>\n",
       "      <td>1976</td>\n",
       "      <td>Doutorado</td>\n",
       "      <td>Solteiro</td>\n",
       "      <td>49544.0</td>\n",
       "      <td>1</td>\n",
       "      <td>0</td>\n",
       "      <td>2020-02-11</td>\n",
       "      <td>0</td>\n",
       "      <td>308</td>\n",
       "      <td>0</td>\n",
       "      <td>73</td>\n",
       "      <td>0</td>\n",
       "      <td>0</td>\n",
       "      <td>23</td>\n",
       "      <td>2</td>\n",
       "      <td>5</td>\n",
       "      <td>1</td>\n",
       "      <td>8</td>\n",
       "      <td>7</td>\n",
       "      <td>0</td>\n",
       "      <td>0</td>\n",
       "      <td>0</td>\n",
       "      <td>0</td>\n",
       "      <td>0</td>\n",
       "      <td>0</td>\n",
       "      <td>Estados Unidos</td>\n",
       "    </tr>\n",
       "  </tbody>\n",
       "</table>\n",
       "</div>"
      ],
      "text/plain": [
       "      ID  Ano Nascimento Escolaridade Estado Civil  Salario Anual  \\\n",
       "0   2795            1958     Mestrado     Solteiro        30523.0   \n",
       "1   2285            1954     Mestrado       Casado        36634.0   \n",
       "2    115            1966     Mestrado     Solteiro        43456.0   \n",
       "3  10470            1979     Mestrado     Solteiro        40662.0   \n",
       "4   4065            1976    Doutorado     Solteiro        49544.0   \n",
       "\n",
       "   Filhos em Casa  Adolescentes em Casa Data Cadastro  \\\n",
       "0               2                     1    2020-07-01   \n",
       "1               0                     1    2023-05-12   \n",
       "2               0                     1    2023-03-02   \n",
       "3               1                     0    2023-03-05   \n",
       "4               1                     0    2020-02-11   \n",
       "\n",
       "   Dias Desde Ultima Compra  Gasto com Eletronicos  Gasto com Brinquedos  \\\n",
       "0                         0                      5                     0   \n",
       "1                         0                    213                     9   \n",
       "2                         0                    275                    11   \n",
       "3                         0                     40                     2   \n",
       "4                         0                    308                     0   \n",
       "\n",
       "   Gasto com Moveis  Gasto com Utilidades  Gasto com Alimentos  \\\n",
       "0                 3                     0                    0   \n",
       "1                76                     4                    3   \n",
       "2                68                    25                    7   \n",
       "3                23                     0                    4   \n",
       "4                73                     0                    0   \n",
       "\n",
       "   Gasto com Vestuario  Numero de Compras com Desconto  \\\n",
       "0                    5                               1   \n",
       "1                   30                               3   \n",
       "2                    7                               3   \n",
       "3                   23                               2   \n",
       "4                   23                               2   \n",
       "\n",
       "   Numero de Compras na Web  Numero de Compras via Catalogo  \\\n",
       "0                         1                               0   \n",
       "1                         5                               2   \n",
       "2                         5                               1   \n",
       "3                         2                               1   \n",
       "4                         5                               1   \n",
       "\n",
       "   Numero de Compras na Loja  Numero Visitas WebSite Mes  \\\n",
       "0                          2                           7   \n",
       "1                          5                           7   \n",
       "2                          8                           5   \n",
       "3                          3                           4   \n",
       "4                          8                           7   \n",
       "\n",
       "   Compra na Campanha 1  Compra na Campanha 2  Compra na Campanha 3  \\\n",
       "0                     0                     0                     0   \n",
       "1                     0                     0                     0   \n",
       "2                     0                     0                     0   \n",
       "3                     0                     0                     0   \n",
       "4                     0                     0                     0   \n",
       "\n",
       "   Compra na Campanha 4  Compra na Campanha 5  Comprou            Pais  \n",
       "0                     0                     0        0           Chile  \n",
       "1                     0                     0        0         Espanha  \n",
       "2                     0                     0        0       Argentina  \n",
       "3                     0                     0        0        Alemanha  \n",
       "4                     0                     0        0  Estados Unidos  "
      ]
     },
     "execution_count": 10,
     "metadata": {},
     "output_type": "execute_result"
    }
   ],
   "source": [
    "df.head()"
   ]
  },
  {
   "cell_type": "code",
   "execution_count": 13,
   "id": "afda48ac-eaf7-47f7-ac36-14515287abb7",
   "metadata": {},
   "outputs": [
    {
     "name": "stdout",
     "output_type": "stream",
     "text": [
      "Total de Clientes = 2000\n"
     ]
    }
   ],
   "source": [
    "total_cliente = df['ID'].nunique()\n",
    "print(f\"Total de Clientes = {total_cliente}\")"
   ]
  },
  {
   "cell_type": "code",
   "execution_count": 16,
   "id": "35bd0bde-0315-4c8f-b745-b4b1fd12896b",
   "metadata": {},
   "outputs": [
    {
     "name": "stdout",
     "output_type": "stream",
     "text": [
      "Média de Salário Anual = 52290.85259969712\n"
     ]
    }
   ],
   "source": [
    "media_salario = df['Salario Anual'].mean()\n",
    "print(f\"Média de Salário Anual = {media_salario}\")"
   ]
  },
  {
   "cell_type": "code",
   "execution_count": null,
   "id": "be8037ff-9532-41e8-aefa-02ceedfa824d",
   "metadata": {},
   "outputs": [],
   "source": []
  }
 ],
 "metadata": {
  "kernelspec": {
   "display_name": "Python 3 (ipykernel)",
   "language": "python",
   "name": "python3"
  },
  "language_info": {
   "codemirror_mode": {
    "name": "ipython",
    "version": 3
   },
   "file_extension": ".py",
   "mimetype": "text/x-python",
   "name": "python",
   "nbconvert_exporter": "python",
   "pygments_lexer": "ipython3",
   "version": "3.12.7"
  }
 },
 "nbformat": 4,
 "nbformat_minor": 5
}
